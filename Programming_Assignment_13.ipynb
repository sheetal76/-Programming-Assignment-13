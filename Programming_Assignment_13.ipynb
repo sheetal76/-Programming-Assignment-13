{
  "nbformat": 4,
  "nbformat_minor": 0,
  "metadata": {
    "colab": {
      "provenance": []
    },
    "kernelspec": {
      "name": "python3",
      "display_name": "Python 3"
    },
    "language_info": {
      "name": "python"
    }
  },
  "cells": [
    {
      "cell_type": "code",
      "execution_count": 2,
      "metadata": {
        "id": "jfShTrfsX5sl"
      },
      "outputs": [],
      "source": [
        "#1. Write a program that calculates and prints the value according to the given formula:\n",
        "#Q = Square root of [(2 C D)/H]\n",
        "#Following are the fixed values of C and H:\n",
        "#C is 50. H is 30.\n",
        "#D is the variable whose values should be input to your program in a comma-separated sequence.\n",
        "#Example\n",
        "#Let us assume the following comma separated input sequence is given to the program:\n",
        "#100,150,180\n",
        "#The output of the program should be:\n",
        "#18,22,24"
      ]
    },
    {
      "cell_type": "code",
      "source": [
        "import math\n",
        "\n",
        "def calculate_formula(args):\n",
        "    c = 50\n",
        "    h = 30\n",
        "    result = []\n",
        "    for d in args:\n",
        "        result.append(int(math.sqrt((2*c*int(d))/h)))\n",
        "    print(result)\n",
        "\n",
        "\n",
        "inp = list(input(\"Enter comma separated numbers input: \").split(','))\n",
        "calculate_formula(inp)"
      ],
      "metadata": {
        "colab": {
          "base_uri": "https://localhost:8080/"
        },
        "id": "YqLUMSwzZUyH",
        "outputId": "d896482e-8198-4d24-afe4-0b05d9a259b8"
      },
      "execution_count": 8,
      "outputs": [
        {
          "output_type": "stream",
          "name": "stdout",
          "text": [
            "Enter comma separated numbers input: 2,3,4,5\n",
            "[2, 3, 3, 4]\n"
          ]
        }
      ]
    },
    {
      "cell_type": "code",
      "source": [
        "#2. Write a program which takes 2 digits, X,Y as input and generates a 2-dimensional array.\n",
        "#The element value in the i-th row and j-th column of the array should be i*j."
      ],
      "metadata": {
        "id": "dHlFFfIDYPRN"
      },
      "execution_count": 3,
      "outputs": []
    },
    {
      "cell_type": "code",
      "source": [
        "x = int(input(\"Enter X value: \"))\n",
        "y = int(input(\"Enter Y value: \"))\n",
        "matrix = []\n",
        "for i in range(x):\n",
        "    row = []\n",
        "    for j in range(y):\n",
        "        row.append(i*j)\n",
        "    matrix.append(row)\n",
        "print(matrix)"
      ],
      "metadata": {
        "colab": {
          "base_uri": "https://localhost:8080/"
        },
        "id": "5sc6U_UMZi-B",
        "outputId": "d131f7d0-cdac-4ee7-aea5-efd81f722439"
      },
      "execution_count": 9,
      "outputs": [
        {
          "output_type": "stream",
          "name": "stdout",
          "text": [
            "Enter X value: 3\n",
            "Enter Y value: 5\n",
            "[[0, 0, 0, 0, 0], [0, 1, 2, 3, 4], [0, 2, 4, 6, 8]]\n"
          ]
        }
      ]
    },
    {
      "cell_type": "code",
      "source": [
        "#3. Write a program that accepts a comma separated sequence of words as input and prints the words in\n",
        "#a comma-separated sequence after sorting them alphabetically."
      ],
      "metadata": {
        "id": "ifZuaKGrY91C"
      },
      "execution_count": 4,
      "outputs": []
    },
    {
      "cell_type": "code",
      "source": [
        "words = list(input(\"Enter comma seperated words: \").split(','))\n",
        "words.sort()\n",
        "print(','.join(words))"
      ],
      "metadata": {
        "colab": {
          "base_uri": "https://localhost:8080/"
        },
        "id": "xtQm0AHOZqUf",
        "outputId": "d206dce2-a5e5-47f7-afb1-9b6670b6dfe5"
      },
      "execution_count": 10,
      "outputs": [
        {
          "output_type": "stream",
          "name": "stdout",
          "text": [
            "Enter comma seperated words: hello, hi\n",
            " hi,hello\n"
          ]
        }
      ]
    },
    {
      "cell_type": "code",
      "source": [
        "#4. Write a program that accepts a sequence of whitespace separated words as input and prints\n",
        "#the words after removing all duplicate words and sorting them alphanumerically."
      ],
      "metadata": {
        "id": "_C7aacdHZDIl"
      },
      "execution_count": 11,
      "outputs": []
    },
    {
      "cell_type": "code",
      "source": [
        "words = list(set(input(\"Enter comma seperated words: \").split(' ')))\n",
        "words.sort()\n",
        "print(' '.join(words))"
      ],
      "metadata": {
        "colab": {
          "base_uri": "https://localhost:8080/"
        },
        "id": "uXdm2EMiZyeb",
        "outputId": "649d33e0-8848-4a1a-d479-125a9c1da552"
      },
      "execution_count": 13,
      "outputs": [
        {
          "output_type": "stream",
          "name": "stdout",
          "text": [
            "Enter comma seperated words: hi hello how are you nice too nice to see u here\n",
            "are hello here hi how nice see to too u you\n"
          ]
        }
      ]
    },
    {
      "cell_type": "code",
      "source": [
        "#5. Write a program that accepts a sentence and calculate the number of letters and digits."
      ],
      "metadata": {
        "id": "6e2QPheeZKw8"
      },
      "execution_count": 14,
      "outputs": []
    },
    {
      "cell_type": "code",
      "source": [
        "words = input(\"Enter a sentence: \")\n",
        "letters = 0\n",
        "digits = 0\n",
        "for c in words:\n",
        "    if (ord(c) >= ord('a') and ord(c) <= ord('z')) or (ord(c) >= ord('A') and ord(c) <= ord('Z')):\n",
        "        letters += 1\n",
        "    elif ord(c) >= ord('0') and ord(c) <= ord('9'):\n",
        "        digits += 1\n",
        "print(\"LETTERS {}\".format(letters))\n",
        "print(\"DIGITS {}\".format(digits))"
      ],
      "metadata": {
        "colab": {
          "base_uri": "https://localhost:8080/"
        },
        "id": "fD8r-T-vaFJV",
        "outputId": "61562427-a7dd-4e86-ee25-02e347a6528d"
      },
      "execution_count": 15,
      "outputs": [
        {
          "output_type": "stream",
          "name": "stdout",
          "text": [
            "Enter a sentence: hello this is sheetal 25\n",
            "LETTERS 18\n",
            "DIGITS 2\n"
          ]
        }
      ]
    },
    {
      "cell_type": "code",
      "source": [
        "#6. A website requires the users to input username and password to register.\n",
        "#Write a program to check the validity of password input by users."
      ],
      "metadata": {
        "id": "KaXZFY07ZNm8"
      },
      "execution_count": 16,
      "outputs": []
    },
    {
      "cell_type": "code",
      "source": [
        "def check_smallcase(password):\n",
        "    check = False\n",
        "    for p in password:\n",
        "        if ord(p) >= ord('a') and ord(p) <= ord('z'):\n",
        "            check = True\n",
        "            break\n",
        "    return check\n",
        "\n",
        "def check_uppercase(password):\n",
        "    check = False\n",
        "    for p in password:\n",
        "        if ord(p) >= ord('A') and ord(p) <= ord('Z'):\n",
        "            check = True\n",
        "            break\n",
        "    return check\n",
        "\n",
        "def check_digit(password):\n",
        "    check = False\n",
        "    for p in password:\n",
        "        if ord(p) >= ord('1') and ord(p) <= ord('9'):\n",
        "            check = True\n",
        "            break\n",
        "    return check\n",
        "\n",
        "def check_specialchars(password):\n",
        "    check = False\n",
        "    specials = \"!@#$%^&*()_+=->;,:/?`\"\n",
        "    for p in password:\n",
        "        if p in specials:\n",
        "            check = True\n",
        "            break\n",
        "    return check\n",
        "\n",
        "def check_minlength(password):\n",
        "    return len(password) >= 6\n",
        "\n",
        "def check_maxlength(password):\n",
        "    return len(password) <= 12\n",
        "\n",
        "passwords = list(set(input(\"Enter comma seperated passwords: \").split(',')))\n",
        "valid_passwords = []\n",
        "for password in passwords:\n",
        "    if check_smallcase(password) and check_uppercase(password) and check_digit(password) and check_specialchars(password) and check_minlength(password) and check_maxlength(password):\n",
        "        valid_passwords.append(password)\n",
        "print(','.join(valid_passwords))"
      ],
      "metadata": {
        "colab": {
          "base_uri": "https://localhost:8080/"
        },
        "id": "xUU1oSU4ZSEn",
        "outputId": "14a43f90-d4e1-4cc1-9b68-bd3e0688de93"
      },
      "execution_count": 18,
      "outputs": [
        {
          "output_type": "stream",
          "name": "stdout",
          "text": [
            "Enter comma seperated passwords: 12345@S, $ghjy76,yhgt567**\n",
            "\n"
          ]
        }
      ]
    },
    {
      "cell_type": "code",
      "source": [],
      "metadata": {
        "id": "12-GqbPUaUrK"
      },
      "execution_count": null,
      "outputs": []
    }
  ]
}